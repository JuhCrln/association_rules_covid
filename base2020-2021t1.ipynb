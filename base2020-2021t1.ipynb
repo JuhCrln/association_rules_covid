{
 "cells": [
  {
   "cell_type": "code",
   "execution_count": 42,
   "metadata": {
    "executionInfo": {
     "elapsed": 1260,
     "status": "ok",
     "timestamp": 1649968983427,
     "user": {
      "displayName": "Julliana Caroline",
      "userId": "17131288498388431502"
     },
     "user_tz": 180
    },
    "id": "swyhqypnzZE1"
   },
   "outputs": [],
   "source": [
    "import pandas as pd\n",
    "import numpy as np\n",
    "import warnings\n",
    "from difflib import get_close_matches\n",
    "warnings.filterwarnings('ignore')"
   ]
  },
  {
   "cell_type": "code",
   "execution_count": 43,
   "metadata": {
    "executionInfo": {
     "elapsed": 5844,
     "status": "ok",
     "timestamp": 1649969117355,
     "user": {
      "displayName": "Julliana Caroline",
      "userId": "17131288498388431502"
     },
     "user_tz": 180
    },
    "id": "rejqoDDH0L1P",
    "scrolled": false
   },
   "outputs": [],
   "source": [
    "df20 = pd.read_csv('INFLUD20.csv', delimiter =';', low_memory=False, keep_default_na=False)"
   ]
  },
  {
   "cell_type": "code",
   "execution_count": 44,
   "metadata": {},
   "outputs": [],
   "source": [
    "df21 = pd.read_csv('INFLUD21.csv', delimiter =';', low_memory=False, keep_default_na=False)"
   ]
  },
  {
   "cell_type": "code",
   "execution_count": 45,
   "metadata": {},
   "outputs": [],
   "source": [
    "data20 = df20[ ['DT_NOTIFIC','SG_UF_NOT','FEBRE','TOSSE','GARGANTA','DISPNEIA','DESC_RESP','SATURACAO','DIARREIA','VOMITO',\n",
    "                  'DOR_ABD','FADIGA','PERD_OLFT','PERD_PALA', 'CLASSI_FIN'] ]"
   ]
  },
  {
   "cell_type": "code",
   "execution_count": 46,
   "metadata": {},
   "outputs": [],
   "source": [
    "data21 = df21[ ['DT_NOTIFIC','SG_UF_NOT','FEBRE','TOSSE','GARGANTA','DISPNEIA','DESC_RESP','SATURACAO','DIARREIA','VOMITO',\n",
    "                  'DOR_ABD','FADIGA','PERD_OLFT','PERD_PALA', 'CLASSI_FIN'] ]"
   ]
  },
  {
   "cell_type": "code",
   "execution_count": 47,
   "metadata": {
    "scrolled": false
   },
   "outputs": [],
   "source": [
    "#data20"
   ]
  },
  {
   "cell_type": "code",
   "execution_count": 48,
   "metadata": {},
   "outputs": [],
   "source": [
    "#data21"
   ]
  },
  {
   "cell_type": "code",
   "execution_count": 49,
   "metadata": {},
   "outputs": [],
   "source": [
    "dfSP = data20['SG_UF_NOT']== 'SP'\n",
    "df_SP20 = data20[dfSP]"
   ]
  },
  {
   "cell_type": "code",
   "execution_count": 50,
   "metadata": {},
   "outputs": [],
   "source": [
    "df_SP20['DT_NOTIFIC'] = pd.to_datetime(df_SP20['DT_NOTIFIC'])\n",
    "df_SP20_data = df_SP20.sort_values(by='DT_NOTIFIC')"
   ]
  },
  {
   "cell_type": "code",
   "execution_count": 51,
   "metadata": {},
   "outputs": [],
   "source": [
    "df_SP20_data['year'] = df_SP20_data['DT_NOTIFIC'].dt.year\n",
    "df_SP20_data['month'] = df_SP20_data['DT_NOTIFIC'].dt.month"
   ]
  },
  {
   "cell_type": "code",
   "execution_count": 52,
   "metadata": {},
   "outputs": [],
   "source": [
    "df_SP20_data.drop(['DT_NOTIFIC'], axis=1, inplace=True)"
   ]
  },
  {
   "cell_type": "code",
   "execution_count": 53,
   "metadata": {},
   "outputs": [],
   "source": [
    "df_SP20_data_final = df_SP20_data[['month','year','SG_UF_NOT','FEBRE','TOSSE','GARGANTA','DISPNEIA','DESC_RESP','SATURACAO','DIARREIA','VOMITO',\n",
    "                  'DOR_ABD','FADIGA','PERD_OLFT','PERD_PALA','CLASSI_FIN']]"
   ]
  },
  {
   "cell_type": "code",
   "execution_count": 54,
   "metadata": {},
   "outputs": [],
   "source": [
    "#2021"
   ]
  },
  {
   "cell_type": "code",
   "execution_count": 55,
   "metadata": {},
   "outputs": [],
   "source": [
    "dfSP = data21['SG_UF_NOT']== 'SP'\n",
    "df_SP21 = data21[dfSP]"
   ]
  },
  {
   "cell_type": "code",
   "execution_count": 56,
   "metadata": {},
   "outputs": [],
   "source": [
    "df_SP21['DT_NOTIFIC'] = pd.to_datetime(df_SP21['DT_NOTIFIC'])\n",
    "df_SP21_data = df_SP21.sort_values(by='DT_NOTIFIC')"
   ]
  },
  {
   "cell_type": "code",
   "execution_count": 57,
   "metadata": {},
   "outputs": [],
   "source": [
    "df_SP21_data['year'] = df_SP21_data['DT_NOTIFIC'].dt.year\n",
    "df_SP21_data['month'] = df_SP21_data['DT_NOTIFIC'].dt.month"
   ]
  },
  {
   "cell_type": "code",
   "execution_count": 58,
   "metadata": {},
   "outputs": [],
   "source": [
    "df_SP21_data.drop(['DT_NOTIFIC'], axis=1, inplace=True)"
   ]
  },
  {
   "cell_type": "code",
   "execution_count": 59,
   "metadata": {},
   "outputs": [],
   "source": [
    "df_SP21_data_final = df_SP21_data[['month','year','SG_UF_NOT','FEBRE','TOSSE','GARGANTA','DISPNEIA','DESC_RESP','SATURACAO','DIARREIA','VOMITO',\n",
    "                  'DOR_ABD','FADIGA','PERD_OLFT','PERD_PALA','CLASSI_FIN']]"
   ]
  },
  {
   "cell_type": "code",
   "execution_count": 60,
   "metadata": {},
   "outputs": [
    {
     "data": {
      "text/html": [
       "<div>\n",
       "<style scoped>\n",
       "    .dataframe tbody tr th:only-of-type {\n",
       "        vertical-align: middle;\n",
       "    }\n",
       "\n",
       "    .dataframe tbody tr th {\n",
       "        vertical-align: top;\n",
       "    }\n",
       "\n",
       "    .dataframe thead th {\n",
       "        text-align: right;\n",
       "    }\n",
       "</style>\n",
       "<table border=\"1\" class=\"dataframe\">\n",
       "  <thead>\n",
       "    <tr style=\"text-align: right;\">\n",
       "      <th></th>\n",
       "      <th>month</th>\n",
       "      <th>year</th>\n",
       "      <th>SG_UF_NOT</th>\n",
       "      <th>FEBRE</th>\n",
       "      <th>TOSSE</th>\n",
       "      <th>GARGANTA</th>\n",
       "      <th>DISPNEIA</th>\n",
       "      <th>DESC_RESP</th>\n",
       "      <th>SATURACAO</th>\n",
       "      <th>DIARREIA</th>\n",
       "      <th>VOMITO</th>\n",
       "      <th>DOR_ABD</th>\n",
       "      <th>FADIGA</th>\n",
       "      <th>PERD_OLFT</th>\n",
       "      <th>PERD_PALA</th>\n",
       "      <th>CLASSI_FIN</th>\n",
       "    </tr>\n",
       "  </thead>\n",
       "  <tbody>\n",
       "    <tr>\n",
       "      <th>618748</th>\n",
       "      <td>1</td>\n",
       "      <td>2021</td>\n",
       "      <td>SP</td>\n",
       "      <td>2</td>\n",
       "      <td>1</td>\n",
       "      <td>2</td>\n",
       "      <td>1</td>\n",
       "      <td>1</td>\n",
       "      <td>2</td>\n",
       "      <td>2</td>\n",
       "      <td>2</td>\n",
       "      <td>2</td>\n",
       "      <td>1</td>\n",
       "      <td>2</td>\n",
       "      <td>2</td>\n",
       "      <td>5</td>\n",
       "    </tr>\n",
       "    <tr>\n",
       "      <th>1046464</th>\n",
       "      <td>1</td>\n",
       "      <td>2021</td>\n",
       "      <td>SP</td>\n",
       "      <td>1</td>\n",
       "      <td>2</td>\n",
       "      <td>2</td>\n",
       "      <td>1</td>\n",
       "      <td>2</td>\n",
       "      <td>1</td>\n",
       "      <td>2</td>\n",
       "      <td>9</td>\n",
       "      <td>2</td>\n",
       "      <td>1</td>\n",
       "      <td>2</td>\n",
       "      <td>2</td>\n",
       "      <td>4</td>\n",
       "    </tr>\n",
       "    <tr>\n",
       "      <th>1042096</th>\n",
       "      <td>1</td>\n",
       "      <td>2021</td>\n",
       "      <td>SP</td>\n",
       "      <td>1</td>\n",
       "      <td>1</td>\n",
       "      <td>1</td>\n",
       "      <td>1</td>\n",
       "      <td>1</td>\n",
       "      <td>1</td>\n",
       "      <td>2</td>\n",
       "      <td>2</td>\n",
       "      <td>2</td>\n",
       "      <td>2</td>\n",
       "      <td>2</td>\n",
       "      <td>2</td>\n",
       "      <td>5</td>\n",
       "    </tr>\n",
       "    <tr>\n",
       "      <th>13387</th>\n",
       "      <td>1</td>\n",
       "      <td>2021</td>\n",
       "      <td>SP</td>\n",
       "      <td>1</td>\n",
       "      <td>1</td>\n",
       "      <td>2</td>\n",
       "      <td>1</td>\n",
       "      <td>1</td>\n",
       "      <td>1</td>\n",
       "      <td>2</td>\n",
       "      <td>2</td>\n",
       "      <td>2</td>\n",
       "      <td>1</td>\n",
       "      <td>2</td>\n",
       "      <td>2</td>\n",
       "      <td>5</td>\n",
       "    </tr>\n",
       "    <tr>\n",
       "      <th>1042099</th>\n",
       "      <td>1</td>\n",
       "      <td>2021</td>\n",
       "      <td>SP</td>\n",
       "      <td>1</td>\n",
       "      <td>2</td>\n",
       "      <td>2</td>\n",
       "      <td>2</td>\n",
       "      <td>1</td>\n",
       "      <td>2</td>\n",
       "      <td>1</td>\n",
       "      <td>2</td>\n",
       "      <td>2</td>\n",
       "      <td>2</td>\n",
       "      <td>2</td>\n",
       "      <td>2</td>\n",
       "      <td>4</td>\n",
       "    </tr>\n",
       "    <tr>\n",
       "      <th>...</th>\n",
       "      <td>...</td>\n",
       "      <td>...</td>\n",
       "      <td>...</td>\n",
       "      <td>...</td>\n",
       "      <td>...</td>\n",
       "      <td>...</td>\n",
       "      <td>...</td>\n",
       "      <td>...</td>\n",
       "      <td>...</td>\n",
       "      <td>...</td>\n",
       "      <td>...</td>\n",
       "      <td>...</td>\n",
       "      <td>...</td>\n",
       "      <td>...</td>\n",
       "      <td>...</td>\n",
       "      <td>...</td>\n",
       "    </tr>\n",
       "    <tr>\n",
       "      <th>690782</th>\n",
       "      <td>7</td>\n",
       "      <td>2023</td>\n",
       "      <td>SP</td>\n",
       "      <td>1</td>\n",
       "      <td>1</td>\n",
       "      <td>2</td>\n",
       "      <td>1</td>\n",
       "      <td>1</td>\n",
       "      <td>1</td>\n",
       "      <td>2</td>\n",
       "      <td>2</td>\n",
       "      <td>2</td>\n",
       "      <td>2</td>\n",
       "      <td>2</td>\n",
       "      <td>2</td>\n",
       "      <td>5</td>\n",
       "    </tr>\n",
       "    <tr>\n",
       "      <th>942913</th>\n",
       "      <td>8</td>\n",
       "      <td>2023</td>\n",
       "      <td>SP</td>\n",
       "      <td>2</td>\n",
       "      <td>1</td>\n",
       "      <td>2</td>\n",
       "      <td>1</td>\n",
       "      <td>1</td>\n",
       "      <td>1</td>\n",
       "      <td>2</td>\n",
       "      <td>2</td>\n",
       "      <td>2</td>\n",
       "      <td>1</td>\n",
       "      <td>2</td>\n",
       "      <td>2</td>\n",
       "      <td>5</td>\n",
       "    </tr>\n",
       "    <tr>\n",
       "      <th>581039</th>\n",
       "      <td>8</td>\n",
       "      <td>2023</td>\n",
       "      <td>SP</td>\n",
       "      <td>2</td>\n",
       "      <td>2</td>\n",
       "      <td>2</td>\n",
       "      <td>1</td>\n",
       "      <td>1</td>\n",
       "      <td>1</td>\n",
       "      <td>2</td>\n",
       "      <td>2</td>\n",
       "      <td>2</td>\n",
       "      <td>2</td>\n",
       "      <td>2</td>\n",
       "      <td>2</td>\n",
       "      <td>5</td>\n",
       "    </tr>\n",
       "    <tr>\n",
       "      <th>823930</th>\n",
       "      <td>8</td>\n",
       "      <td>2023</td>\n",
       "      <td>SP</td>\n",
       "      <td>1</td>\n",
       "      <td>2</td>\n",
       "      <td>2</td>\n",
       "      <td>1</td>\n",
       "      <td>1</td>\n",
       "      <td>1</td>\n",
       "      <td>2</td>\n",
       "      <td>2</td>\n",
       "      <td>2</td>\n",
       "      <td>2</td>\n",
       "      <td>2</td>\n",
       "      <td>2</td>\n",
       "      <td>5</td>\n",
       "    </tr>\n",
       "    <tr>\n",
       "      <th>793686</th>\n",
       "      <td>12</td>\n",
       "      <td>2023</td>\n",
       "      <td>SP</td>\n",
       "      <td></td>\n",
       "      <td>1</td>\n",
       "      <td></td>\n",
       "      <td>1</td>\n",
       "      <td></td>\n",
       "      <td></td>\n",
       "      <td></td>\n",
       "      <td></td>\n",
       "      <td></td>\n",
       "      <td></td>\n",
       "      <td></td>\n",
       "      <td></td>\n",
       "      <td>2</td>\n",
       "    </tr>\n",
       "  </tbody>\n",
       "</table>\n",
       "<p>299129 rows × 16 columns</p>\n",
       "</div>"
      ],
      "text/plain": [
       "         month  year SG_UF_NOT FEBRE TOSSE GARGANTA DISPNEIA DESC_RESP  \\\n",
       "618748       1  2021        SP     2     1        2        1         1   \n",
       "1046464      1  2021        SP     1     2        2        1         2   \n",
       "1042096      1  2021        SP     1     1        1        1         1   \n",
       "13387        1  2021        SP     1     1        2        1         1   \n",
       "1042099      1  2021        SP     1     2        2        2         1   \n",
       "...        ...   ...       ...   ...   ...      ...      ...       ...   \n",
       "690782       7  2023        SP     1     1        2        1         1   \n",
       "942913       8  2023        SP     2     1        2        1         1   \n",
       "581039       8  2023        SP     2     2        2        1         1   \n",
       "823930       8  2023        SP     1     2        2        1         1   \n",
       "793686      12  2023        SP           1                 1             \n",
       "\n",
       "        SATURACAO DIARREIA VOMITO DOR_ABD FADIGA PERD_OLFT PERD_PALA  \\\n",
       "618748          2        2      2       2      1         2         2   \n",
       "1046464         1        2      9       2      1         2         2   \n",
       "1042096         1        2      2       2      2         2         2   \n",
       "13387           1        2      2       2      1         2         2   \n",
       "1042099         2        1      2       2      2         2         2   \n",
       "...           ...      ...    ...     ...    ...       ...       ...   \n",
       "690782          1        2      2       2      2         2         2   \n",
       "942913          1        2      2       2      1         2         2   \n",
       "581039          1        2      2       2      2         2         2   \n",
       "823930          1        2      2       2      2         2         2   \n",
       "793686                                                                 \n",
       "\n",
       "        CLASSI_FIN  \n",
       "618748           5  \n",
       "1046464          4  \n",
       "1042096          5  \n",
       "13387            5  \n",
       "1042099          4  \n",
       "...            ...  \n",
       "690782           5  \n",
       "942913           5  \n",
       "581039           5  \n",
       "823930           5  \n",
       "793686           2  \n",
       "\n",
       "[299129 rows x 16 columns]"
      ]
     },
     "execution_count": 60,
     "metadata": {},
     "output_type": "execute_result"
    }
   ],
   "source": [
    "df_SP21_data_final"
   ]
  },
  {
   "cell_type": "code",
   "execution_count": 61,
   "metadata": {},
   "outputs": [],
   "source": [
    "SP20 = df_SP20_data_final"
   ]
  },
  {
   "cell_type": "code",
   "execution_count": 62,
   "metadata": {},
   "outputs": [],
   "source": [
    "SP21 = df_SP21_data_final"
   ]
  },
  {
   "cell_type": "code",
   "execution_count": 63,
   "metadata": {},
   "outputs": [],
   "source": [
    "SP20.drop(SP20.loc[SP20['year'] == 2019].index, inplace=True)"
   ]
  },
  {
   "cell_type": "code",
   "execution_count": 64,
   "metadata": {},
   "outputs": [],
   "source": [
    "SP20.drop(SP20.loc[SP20['year'] == 2021].index, inplace=True)"
   ]
  },
  {
   "cell_type": "code",
   "execution_count": 65,
   "metadata": {},
   "outputs": [],
   "source": [
    "SP20.drop(SP20.loc[SP20['year'] == 2022].index, inplace=True)"
   ]
  },
  {
   "cell_type": "code",
   "execution_count": 66,
   "metadata": {},
   "outputs": [],
   "source": [
    "SP21.drop(SP21.loc[SP21['year'] == 2019].index, inplace=True)"
   ]
  },
  {
   "cell_type": "code",
   "execution_count": 67,
   "metadata": {},
   "outputs": [],
   "source": [
    "SP21.drop(SP21.loc[SP21['year'] == 2020].index, inplace=True)"
   ]
  },
  {
   "cell_type": "code",
   "execution_count": 68,
   "metadata": {},
   "outputs": [],
   "source": [
    "SP21.drop(SP21.loc[SP21['year'] == 2022].index, inplace=True)"
   ]
  },
  {
   "cell_type": "code",
   "execution_count": 69,
   "metadata": {
    "scrolled": false
   },
   "outputs": [],
   "source": [
    "SP20 = SP20.replace('9', '0') "
   ]
  },
  {
   "cell_type": "code",
   "execution_count": 70,
   "metadata": {},
   "outputs": [],
   "source": [
    "SP20 = SP20.replace('2', '0') "
   ]
  },
  {
   "cell_type": "code",
   "execution_count": 71,
   "metadata": {},
   "outputs": [],
   "source": [
    "SP20 = SP20.replace('', '0') "
   ]
  },
  {
   "cell_type": "code",
   "execution_count": 72,
   "metadata": {},
   "outputs": [],
   "source": [
    "SP21 = SP21.replace('9', '0') "
   ]
  },
  {
   "cell_type": "code",
   "execution_count": 73,
   "metadata": {},
   "outputs": [],
   "source": [
    "SP21 = SP21.replace('2', '0') "
   ]
  },
  {
   "cell_type": "code",
   "execution_count": 74,
   "metadata": {},
   "outputs": [],
   "source": [
    "SP21 = SP21.replace('', '0') "
   ]
  },
  {
   "cell_type": "code",
   "execution_count": 75,
   "metadata": {},
   "outputs": [],
   "source": [
    "SP20['CLASSI_FIN'] = SP20['CLASSI_FIN'].replace('5', '1') "
   ]
  },
  {
   "cell_type": "code",
   "execution_count": 76,
   "metadata": {},
   "outputs": [],
   "source": [
    "SP20['CLASSI_FIN'] = SP20['CLASSI_FIN'].replace('4', '0') "
   ]
  },
  {
   "cell_type": "code",
   "execution_count": 77,
   "metadata": {},
   "outputs": [],
   "source": [
    "SP21['CLASSI_FIN'] = SP21['CLASSI_FIN'].replace('5', '1') "
   ]
  },
  {
   "cell_type": "code",
   "execution_count": 78,
   "metadata": {},
   "outputs": [],
   "source": [
    "SP21['CLASSI_FIN'] = SP21['CLASSI_FIN'].replace('4', '0') "
   ]
  },
  {
   "cell_type": "code",
   "execution_count": 79,
   "metadata": {},
   "outputs": [],
   "source": [
    "SP20.drop(SP20.loc[SP20['CLASSI_FIN'] == '0'].index, inplace=True)"
   ]
  },
  {
   "cell_type": "code",
   "execution_count": 80,
   "metadata": {},
   "outputs": [],
   "source": [
    "SP21.drop(SP21.loc[SP21['CLASSI_FIN'] == '0'].index, inplace=True)"
   ]
  },
  {
   "cell_type": "code",
   "execution_count": 81,
   "metadata": {},
   "outputs": [],
   "source": [
    "SP20.to_csv(\"SP20.csv\", index=False)"
   ]
  },
  {
   "cell_type": "code",
   "execution_count": 82,
   "metadata": {},
   "outputs": [],
   "source": [
    "SP21.to_csv(\"SP21.csv\", index=False)"
   ]
  },
  {
   "cell_type": "code",
   "execution_count": null,
   "metadata": {},
   "outputs": [],
   "source": []
  },
  {
   "cell_type": "code",
   "execution_count": null,
   "metadata": {},
   "outputs": [],
   "source": []
  },
  {
   "cell_type": "code",
   "execution_count": null,
   "metadata": {},
   "outputs": [],
   "source": []
  }
 ],
 "metadata": {
  "colab": {
   "authorship_tag": "ABX9TyMa2A05OhiuoooobRa4/HUC",
   "name": "Analise_Covid_Malasia.ipynb",
   "provenance": []
  },
  "kernelspec": {
   "display_name": "Python 3 (ipykernel)",
   "language": "python",
   "name": "python3"
  },
  "language_info": {
   "codemirror_mode": {
    "name": "ipython",
    "version": 3
   },
   "file_extension": ".py",
   "mimetype": "text/x-python",
   "name": "python",
   "nbconvert_exporter": "python",
   "pygments_lexer": "ipython3",
   "version": "3.9.12"
  }
 },
 "nbformat": 4,
 "nbformat_minor": 1
}
